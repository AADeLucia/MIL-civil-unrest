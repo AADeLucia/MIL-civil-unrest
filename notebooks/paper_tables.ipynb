{
 "cells": [
  {
   "cell_type": "code",
   "execution_count": 5,
   "id": "2074043c",
   "metadata": {},
   "outputs": [],
   "source": [
    "import pandas as pd\n",
    "import json\n",
    "import os"
   ]
  },
  {
   "cell_type": "markdown",
   "id": "4b850d6e",
   "metadata": {},
   "source": [
    "## Instance Model Results"
   ]
  },
  {
   "cell_type": "code",
   "execution_count": 15,
   "id": "e147d333",
   "metadata": {},
   "outputs": [],
   "source": [
    "model_dir = f\"{os.environ['MINERVA_HOME']}/models/minerva_instance_models\"\n",
    "\n",
    "instance_model_res = {}\n",
    "for split in [\"val\", \"test\"]:\n",
    "    with open(f\"{model_dir}/{split}_results.json\") as f:\n",
    "        instance_model_res[split] = json.load(f)\n",
    "df = pd.DataFrame.from_dict(instance_model_res)\n",
    "\n",
    "for row in df.itertuples():\n",
    "    print(f\"{row.Index.replace('eval_', '').capitalize()} & {row.val:.2} & {row.test:.2} \\\\\\\\\")"
   ]
  },
  {
   "cell_type": "code",
   "execution_count": null,
   "id": "903216de",
   "metadata": {},
   "outputs": [],
   "source": []
  }
 ],
 "metadata": {
  "kernelspec": {
   "display_name": "Python [conda env:minerva-proj]",
   "language": "python",
   "name": "conda-env-minerva-proj-py"
  },
  "language_info": {
   "codemirror_mode": {
    "name": "ipython",
    "version": 3
   },
   "file_extension": ".py",
   "mimetype": "text/x-python",
   "name": "python",
   "nbconvert_exporter": "python",
   "pygments_lexer": "ipython3",
   "version": "3.8.11"
  }
 },
 "nbformat": 4,
 "nbformat_minor": 5
}
